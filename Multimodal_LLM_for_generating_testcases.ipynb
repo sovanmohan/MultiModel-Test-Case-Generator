{
  "cells": [
    {
      "cell_type": "markdown",
      "metadata": {
        "id": "OsjgLQRBZbwD"
      },
      "source": [
        "### Installing lib"
      ]
    },
    {
      "cell_type": "code",
      "execution_count": null,
      "metadata": {
        "colab": {
          "base_uri": "https://localhost:8080/"
        },
        "id": "X7vJHuiucScp",
        "outputId": "f0e109a3-9c72-48b6-bfe1-4fa1e355697f"
      },
      "outputs": [
        {
          "ename": "",
          "evalue": "",
          "output_type": "error",
          "traceback": [
            "\u001b[1;31mThe kernel failed to start as 'KeyPressEvent' could not be imported from 'e:\\Python3.1.2\\Lib\\site-packages\\prompt_toolkit\\key_binding\\__init__.py'.\n",
            "\u001b[1;31mClick <a href='https://aka.ms/kernelFailuresModuleImportErrFromFile'>here</a> for more info."
          ]
        }
      ],
      "source": [
        "!pip install gradio\n",
        "!pip install git+https://github.com/huggingface/transformers\n",
        "!pip install torch"
      ]
    },
    {
      "cell_type": "markdown",
      "metadata": {
        "id": "hhTzk70GZWK8"
      },
      "source": [
        "### Getting model"
      ]
    },
    {
      "cell_type": "code",
      "execution_count": null,
      "metadata": {
        "id": "rjvXdndrQasZ"
      },
      "outputs": [],
      "source": [
        "import torch\n",
        "from transformers import AutoModelForCausalLM, AutoTokenizer\n",
        "from PIL import Image\n",
        "import gradio as gr\n",
        "import time"
      ]
    },
    {
      "cell_type": "code",
      "execution_count": 8,
      "metadata": {
        "id": "KGPcmKv1F3XY"
      },
      "outputs": [],
      "source": [
        "torch.set_default_device('cuda')"
      ]
    },
    {
      "cell_type": "code",
      "execution_count": null,
      "metadata": {
        "colab": {
          "base_uri": "https://localhost:8080/",
          "height": 388,
          "referenced_widgets": [
            "c5ecb50d3c0d416e9977ade5d3a0f792",
            "132567bfa81542059c354ba2115292be",
            "ea8c655d938141b2b381ab2d3fe10acf",
            "2b6787d697b44ae1b4e46f561bfa1033",
            "466c7e03add24162aba6ab6334c82fc6",
            "86f7663313a24d6799045cdb9c246103",
            "0ae973916b914a41a7083eca98cb8109",
            "2474260d1f314234b655f3d33294884a",
            "fbac4098ee3d4cc0961f20a2bce4d2bc",
            "01d4d30aca644cdd85364aad5be3dbbd",
            "8bdf54dbb8234df1969e330b5e3ce009"
          ]
        },
        "id": "cqE1RZl3QhxO",
        "outputId": "e6ea12e4-5f63-48da-c76c-caebd8d7ff0b"
      },
      "outputs": [],
      "source": [
        "model = AutoModelForCausalLM.from_pretrained(\n",
        "    \"MILVLG/imp-v1-3b\",\n",
        "    torch_dtype=torch.float16,\n",
        "    device_map=\"auto\",\n",
        "    trust_remote_code=True\n",
        ")\n",
        "\n",
        "tokenizer = AutoTokenizer.from_pretrained(\n",
        "    \"MILVLG/imp-v1-3b\",\n",
        "    trust_remote_code=True\n",
        ")"
      ]
    },
    {
      "cell_type": "markdown",
      "metadata": {
        "id": "esApjEnhSJCG"
      },
      "source": [
        "### Testing model inference"
      ]
    },
    {
      "cell_type": "code",
      "execution_count": null,
      "metadata": {
        "colab": {
          "base_uri": "https://localhost:8080/"
        },
        "id": "_nyrnsEH0Mpo",
        "outputId": "40369e0c-93b4-4242-ffbd-32f550954687"
      },
      "outputs": [],
      "source": [
        "USER_PROMPT = \"\"\n",
        "SYSTEM_PROMPT = f\"\"\"\n",
        "    A chat between a curious user and an artificial intelligence assistant. The assistant gives helpful, detailed testcase related to image uploaded. You are tasked with generating detailed, step-by-step test cases for software functionality based on uploaded images. The user will provide one or more images of a software or website interface. For each image, generate a separate set of test cases following the format below:\n",
        "\n",
        "    '''Description: Provide a brief explanation of the functionality being tested, as inferred from the image.\n",
        "    Pre-conditions: Identify any setup requirements, dependencies, or conditions that must be met before testing can begin (e.g., user logged in, specific data pre-populated, etc.).\n",
        "    Testing Steps: Outline a clear, numbered sequence of actions that a user would take to test the functionality in the image.\n",
        "    Expected Result: Specify the expected outcome if the functionality is working as intended.'''\n",
        "\n",
        "    Ensure that:\n",
        "    Testcases should be related to validation of data, component interactions, navigation, etc.\n",
        "    Each testcase should have it's own Description, Pre-conidtions, Testing Steps, Expected Result.\n",
        "\n",
        "    USER: <image>\\n{USER_PROMPT}\n",
        "    ASSISTANT:\n",
        "    \"\"\"\n",
        "image = Image.open('EXAMPLE.png')\n",
        "input_ids = tokenizer(SYSTEM_PROMPT, return_tensors=\"pt\").input_ids\n",
        "image_tensor = model.image_preprocess(image)\n",
        "\n",
        "print(f\"input : {input_ids.shape}\")\n",
        "print(f\"image : {image_tensor.shape}\")\n",
        "\n",
        "output_ids = model.generate(\n",
        "    input_ids,\n",
        "    max_new_tokens=400,\n",
        "    images=image_tensor,\n",
        "    use_cache=False,\n",
        "    )[0]\n",
        "\n",
        "RES  = tokenizer.decode(output_ids[input_ids.shape[1]:], skip_special_tokens=True).strip()\n",
        "\n",
        "print(f\"LLM OUTPUT : {RES}\")"
      ]
    },
    {
      "cell_type": "markdown",
      "metadata": {
        "id": "PM4besPLSM2U"
      },
      "source": [
        "### Using gradio"
      ]
    },
    {
      "cell_type": "code",
      "execution_count": null,
      "metadata": {
        "id": "FsbM9_spR6Uz"
      },
      "outputs": [],
      "source": [
        "def generate_answer(IMAGES: list, SYSTEM_PROMPT) -> str:\n",
        "    print(len(IMAGES))\n",
        "\n",
        "    INPUT_IDS = tokenizer(SYSTEM_PROMPT, return_tensors=\"pt\").input_ids\n",
        "\n",
        "    RESULT = \"\"\n",
        "    for EACH_IMG in IMAGES:\n",
        "      image_path = EACH_IMG['path']\n",
        "      image = Image.open(image_path)\n",
        "      image_tensor = model.image_preprocess(image)\n",
        "\n",
        "      output_ids = model.generate(\n",
        "          inputs=INPUT_IDS,\n",
        "          max_new_tokens=500,\n",
        "          images=image_tensor,\n",
        "          use_cache=False,\n",
        "      )[0]\n",
        "      CUR_RESULT = tokenizer.decode(\n",
        "          output_ids[INPUT_IDS.shape[1] :], skip_special_tokens=True\n",
        "      ).strip()\n",
        "\n",
        "      RESULT = f\"{RESULT} /n/n {CUR_RESULT}\"\n",
        "\n",
        "    return RESULT"
      ]
    },
    {
      "cell_type": "code",
      "execution_count": null,
      "metadata": {
        "id": "VpPawo-pSTlO"
      },
      "outputs": [],
      "source": [
        "def response(USER_DATA, TOKEN) -> str:\n",
        "    print(USER_DATA)\n",
        "    MESSAGE = USER_DATA[\"text\"]\n",
        "    NUM_FILES = len(USER_DATA[\"files\"])\n",
        "    FILES = USER_DATA[\"files\"]\n",
        "\n",
        "    SYSTEM_PROMPT = f\"\"\"\n",
        "    A chat between a curious user and an artificial intelligence assistant. The assistant gives helpful, detailed testcase related to image uploaded. You are tasked with generating detailed, step-by-step test cases for software functionality based on uploaded images. The user will provide one or more images of a software or website interface. For each image, generate a separate set of test cases following the format below:\n",
        "\n",
        "    '''Description: Provide a brief explanation of the functionality being tested, as inferred from the image.\n",
        "    Pre-conditions: Identify any setup requirements, dependencies, or conditions that must be met before testing can begin (e.g., user logged in, specific data pre-populated, etc.).\n",
        "    Testing Steps: Outline a clear, numbered sequence of actions that a user would take to test the functionality in the image.\n",
        "    Expected Result: Specify the expected outcome if the functionality is working as intended.'''\n",
        "\n",
        "    Ensure that:\n",
        "    Testcases should be related to validation of data, component interactions, navigation, etc.\n",
        "    Each testcase should have it's own Description, Pre-conidtions, Testing Steps, Expected Result.\n",
        "\n",
        "    USER: <image>\\n{MESSAGE}\n",
        "    ASSISTANT:\n",
        "    \"\"\"\n",
        "\n",
        "    RES = generate_answer(FILES, SYSTEM_PROMPT)\n",
        "\n",
        "    response = f\"{RES}.\"\n",
        "    return response\n",
        "    # for i in range(len(response)):\n",
        "    #     time.sleep(0.025)\n",
        "    #     yield response[: i + 1]"
      ]
    },
    {
      "cell_type": "code",
      "execution_count": null,
      "metadata": {
        "colab": {
          "base_uri": "https://localhost:8080/",
          "height": 680
        },
        "id": "KJ3wR9RBSjea",
        "outputId": "6659c8d2-fee6-4a5a-a714-99f427d1752f"
      },
      "outputs": [],
      "source": [
        "with gr.Blocks() as llm:\n",
        "    slider = gr.Slider(10, 100, render=False)\n",
        "    chatbot = gr.ChatInterface(\n",
        "        fn=response,\n",
        "        multimodal=True,\n",
        "        title=\"MultiModel LLM for Testcase generation\",\n",
        "        cache_examples=True,\n",
        "    )\n",
        "\n",
        "\n",
        "llm.launch(debug=True)"
      ]
    },
    {
      "cell_type": "code",
      "execution_count": null,
      "metadata": {
        "id": "K-Pqqk8bUNup"
      },
      "outputs": [],
      "source": []
    }
  ],
  "metadata": {
    "accelerator": "GPU",
    "colab": {
      "gpuType": "T4",
      "provenance": []
    },
    "kernelspec": {
      "display_name": "Python 3",
      "name": "python3"
    },
    "language_info": {
      "name": "python",
      "version": "3.12.3"
    },
    "widgets": {
      "application/vnd.jupyter.widget-state+json": {
        "01d4d30aca644cdd85364aad5be3dbbd": {
          "model_module": "@jupyter-widgets/base",
          "model_module_version": "1.2.0",
          "model_name": "LayoutModel",
          "state": {
            "_model_module": "@jupyter-widgets/base",
            "_model_module_version": "1.2.0",
            "_model_name": "LayoutModel",
            "_view_count": null,
            "_view_module": "@jupyter-widgets/base",
            "_view_module_version": "1.2.0",
            "_view_name": "LayoutView",
            "align_content": null,
            "align_items": null,
            "align_self": null,
            "border": null,
            "bottom": null,
            "display": null,
            "flex": null,
            "flex_flow": null,
            "grid_area": null,
            "grid_auto_columns": null,
            "grid_auto_flow": null,
            "grid_auto_rows": null,
            "grid_column": null,
            "grid_gap": null,
            "grid_row": null,
            "grid_template_areas": null,
            "grid_template_columns": null,
            "grid_template_rows": null,
            "height": null,
            "justify_content": null,
            "justify_items": null,
            "left": null,
            "margin": null,
            "max_height": null,
            "max_width": null,
            "min_height": null,
            "min_width": null,
            "object_fit": null,
            "object_position": null,
            "order": null,
            "overflow": null,
            "overflow_x": null,
            "overflow_y": null,
            "padding": null,
            "right": null,
            "top": null,
            "visibility": null,
            "width": null
          }
        },
        "0ae973916b914a41a7083eca98cb8109": {
          "model_module": "@jupyter-widgets/controls",
          "model_module_version": "1.5.0",
          "model_name": "DescriptionStyleModel",
          "state": {
            "_model_module": "@jupyter-widgets/controls",
            "_model_module_version": "1.5.0",
            "_model_name": "DescriptionStyleModel",
            "_view_count": null,
            "_view_module": "@jupyter-widgets/base",
            "_view_module_version": "1.2.0",
            "_view_name": "StyleView",
            "description_width": ""
          }
        },
        "132567bfa81542059c354ba2115292be": {
          "model_module": "@jupyter-widgets/controls",
          "model_module_version": "1.5.0",
          "model_name": "HTMLModel",
          "state": {
            "_dom_classes": [],
            "_model_module": "@jupyter-widgets/controls",
            "_model_module_version": "1.5.0",
            "_model_name": "HTMLModel",
            "_view_count": null,
            "_view_module": "@jupyter-widgets/controls",
            "_view_module_version": "1.5.0",
            "_view_name": "HTMLView",
            "description": "",
            "description_tooltip": null,
            "layout": "IPY_MODEL_86f7663313a24d6799045cdb9c246103",
            "placeholder": "​",
            "style": "IPY_MODEL_0ae973916b914a41a7083eca98cb8109",
            "value": "Loading checkpoint shards:  14%"
          }
        },
        "2474260d1f314234b655f3d33294884a": {
          "model_module": "@jupyter-widgets/base",
          "model_module_version": "1.2.0",
          "model_name": "LayoutModel",
          "state": {
            "_model_module": "@jupyter-widgets/base",
            "_model_module_version": "1.2.0",
            "_model_name": "LayoutModel",
            "_view_count": null,
            "_view_module": "@jupyter-widgets/base",
            "_view_module_version": "1.2.0",
            "_view_name": "LayoutView",
            "align_content": null,
            "align_items": null,
            "align_self": null,
            "border": null,
            "bottom": null,
            "display": null,
            "flex": null,
            "flex_flow": null,
            "grid_area": null,
            "grid_auto_columns": null,
            "grid_auto_flow": null,
            "grid_auto_rows": null,
            "grid_column": null,
            "grid_gap": null,
            "grid_row": null,
            "grid_template_areas": null,
            "grid_template_columns": null,
            "grid_template_rows": null,
            "height": null,
            "justify_content": null,
            "justify_items": null,
            "left": null,
            "margin": null,
            "max_height": null,
            "max_width": null,
            "min_height": null,
            "min_width": null,
            "object_fit": null,
            "object_position": null,
            "order": null,
            "overflow": null,
            "overflow_x": null,
            "overflow_y": null,
            "padding": null,
            "right": null,
            "top": null,
            "visibility": null,
            "width": null
          }
        },
        "2b6787d697b44ae1b4e46f561bfa1033": {
          "model_module": "@jupyter-widgets/controls",
          "model_module_version": "1.5.0",
          "model_name": "HTMLModel",
          "state": {
            "_dom_classes": [],
            "_model_module": "@jupyter-widgets/controls",
            "_model_module_version": "1.5.0",
            "_model_name": "HTMLModel",
            "_view_count": null,
            "_view_module": "@jupyter-widgets/controls",
            "_view_module_version": "1.5.0",
            "_view_name": "HTMLView",
            "description": "",
            "description_tooltip": null,
            "layout": "IPY_MODEL_01d4d30aca644cdd85364aad5be3dbbd",
            "placeholder": "​",
            "style": "IPY_MODEL_8bdf54dbb8234df1969e330b5e3ce009",
            "value": " 1/7 [00:07&lt;00:29,  4.96s/it]"
          }
        },
        "466c7e03add24162aba6ab6334c82fc6": {
          "model_module": "@jupyter-widgets/base",
          "model_module_version": "1.2.0",
          "model_name": "LayoutModel",
          "state": {
            "_model_module": "@jupyter-widgets/base",
            "_model_module_version": "1.2.0",
            "_model_name": "LayoutModel",
            "_view_count": null,
            "_view_module": "@jupyter-widgets/base",
            "_view_module_version": "1.2.0",
            "_view_name": "LayoutView",
            "align_content": null,
            "align_items": null,
            "align_self": null,
            "border": null,
            "bottom": null,
            "display": null,
            "flex": null,
            "flex_flow": null,
            "grid_area": null,
            "grid_auto_columns": null,
            "grid_auto_flow": null,
            "grid_auto_rows": null,
            "grid_column": null,
            "grid_gap": null,
            "grid_row": null,
            "grid_template_areas": null,
            "grid_template_columns": null,
            "grid_template_rows": null,
            "height": null,
            "justify_content": null,
            "justify_items": null,
            "left": null,
            "margin": null,
            "max_height": null,
            "max_width": null,
            "min_height": null,
            "min_width": null,
            "object_fit": null,
            "object_position": null,
            "order": null,
            "overflow": null,
            "overflow_x": null,
            "overflow_y": null,
            "padding": null,
            "right": null,
            "top": null,
            "visibility": null,
            "width": null
          }
        },
        "86f7663313a24d6799045cdb9c246103": {
          "model_module": "@jupyter-widgets/base",
          "model_module_version": "1.2.0",
          "model_name": "LayoutModel",
          "state": {
            "_model_module": "@jupyter-widgets/base",
            "_model_module_version": "1.2.0",
            "_model_name": "LayoutModel",
            "_view_count": null,
            "_view_module": "@jupyter-widgets/base",
            "_view_module_version": "1.2.0",
            "_view_name": "LayoutView",
            "align_content": null,
            "align_items": null,
            "align_self": null,
            "border": null,
            "bottom": null,
            "display": null,
            "flex": null,
            "flex_flow": null,
            "grid_area": null,
            "grid_auto_columns": null,
            "grid_auto_flow": null,
            "grid_auto_rows": null,
            "grid_column": null,
            "grid_gap": null,
            "grid_row": null,
            "grid_template_areas": null,
            "grid_template_columns": null,
            "grid_template_rows": null,
            "height": null,
            "justify_content": null,
            "justify_items": null,
            "left": null,
            "margin": null,
            "max_height": null,
            "max_width": null,
            "min_height": null,
            "min_width": null,
            "object_fit": null,
            "object_position": null,
            "order": null,
            "overflow": null,
            "overflow_x": null,
            "overflow_y": null,
            "padding": null,
            "right": null,
            "top": null,
            "visibility": null,
            "width": null
          }
        },
        "8bdf54dbb8234df1969e330b5e3ce009": {
          "model_module": "@jupyter-widgets/controls",
          "model_module_version": "1.5.0",
          "model_name": "DescriptionStyleModel",
          "state": {
            "_model_module": "@jupyter-widgets/controls",
            "_model_module_version": "1.5.0",
            "_model_name": "DescriptionStyleModel",
            "_view_count": null,
            "_view_module": "@jupyter-widgets/base",
            "_view_module_version": "1.2.0",
            "_view_name": "StyleView",
            "description_width": ""
          }
        },
        "c5ecb50d3c0d416e9977ade5d3a0f792": {
          "model_module": "@jupyter-widgets/controls",
          "model_module_version": "1.5.0",
          "model_name": "HBoxModel",
          "state": {
            "_dom_classes": [],
            "_model_module": "@jupyter-widgets/controls",
            "_model_module_version": "1.5.0",
            "_model_name": "HBoxModel",
            "_view_count": null,
            "_view_module": "@jupyter-widgets/controls",
            "_view_module_version": "1.5.0",
            "_view_name": "HBoxView",
            "box_style": "",
            "children": [
              "IPY_MODEL_132567bfa81542059c354ba2115292be",
              "IPY_MODEL_ea8c655d938141b2b381ab2d3fe10acf",
              "IPY_MODEL_2b6787d697b44ae1b4e46f561bfa1033"
            ],
            "layout": "IPY_MODEL_466c7e03add24162aba6ab6334c82fc6"
          }
        },
        "ea8c655d938141b2b381ab2d3fe10acf": {
          "model_module": "@jupyter-widgets/controls",
          "model_module_version": "1.5.0",
          "model_name": "FloatProgressModel",
          "state": {
            "_dom_classes": [],
            "_model_module": "@jupyter-widgets/controls",
            "_model_module_version": "1.5.0",
            "_model_name": "FloatProgressModel",
            "_view_count": null,
            "_view_module": "@jupyter-widgets/controls",
            "_view_module_version": "1.5.0",
            "_view_name": "ProgressView",
            "bar_style": "danger",
            "description": "",
            "description_tooltip": null,
            "layout": "IPY_MODEL_2474260d1f314234b655f3d33294884a",
            "max": 7,
            "min": 0,
            "orientation": "horizontal",
            "style": "IPY_MODEL_fbac4098ee3d4cc0961f20a2bce4d2bc",
            "value": 1
          }
        },
        "fbac4098ee3d4cc0961f20a2bce4d2bc": {
          "model_module": "@jupyter-widgets/controls",
          "model_module_version": "1.5.0",
          "model_name": "ProgressStyleModel",
          "state": {
            "_model_module": "@jupyter-widgets/controls",
            "_model_module_version": "1.5.0",
            "_model_name": "ProgressStyleModel",
            "_view_count": null,
            "_view_module": "@jupyter-widgets/base",
            "_view_module_version": "1.2.0",
            "_view_name": "StyleView",
            "bar_color": null,
            "description_width": ""
          }
        }
      }
    }
  },
  "nbformat": 4,
  "nbformat_minor": 0
}
